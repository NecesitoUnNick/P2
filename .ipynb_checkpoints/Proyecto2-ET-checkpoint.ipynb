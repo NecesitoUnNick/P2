{
 "cells": [
  {
   "cell_type": "markdown",
   "metadata": {
    "colab_type": "text",
    "id": "Wxo3lDEsOVAa"
   },
   "source": [
    "# Project 2\n",
    "\n",
    "# Used Vehicle Price Prediction"
   ]
  },
  {
   "cell_type": "markdown",
   "metadata": {
    "colab_type": "text",
    "id": "QIVf0eukOVAd"
   },
   "source": [
    "## Introduction\n",
    "\n",
    "- 1.2 Million listings scraped from TrueCar.com - Price, Mileage, Make, Model dataset from Kaggle: [data](https://www.kaggle.com/jpayne/852k-used-car-listings)\n",
    "- Each observation represents the price of an used car"
   ]
  },
  {
   "cell_type": "code",
   "execution_count": null,
   "metadata": {
    "colab": {
     "base_uri": "https://localhost:8080/",
     "height": 71
    },
    "colab_type": "code",
    "id": "5ZURGgj-We6V",
    "outputId": "35481e40-07bc-4638-f6c5-d00a52f8282d"
   },
   "outputs": [],
   "source": [
    "import os\n",
    "import matplotlib.pyplot as plt\n",
    "import pandas as pd\n",
    "import numpy as np\n",
    "import datetime\n",
    "import joblib\n",
    "from random import sample\n",
    "from sklearn.linear_model import LinearRegression as LR\n",
    "from sklearn.metrics import mean_squared_error as mse\n",
    "from sklearn.model_selection import train_test_split as tts\n",
    "from sklearn.ensemble. import ExtraTreesRegressor as ETR\n",
    "%matplotlib inline\n",
    "import warnings\n",
    "warnings.filterwarnings(\"ignore\")"
   ]
  },
  {
   "cell_type": "code",
   "execution_count": null,
   "metadata": {
    "colab": {},
    "colab_type": "code",
    "id": "t1BC5cqRRyvD"
   },
   "outputs": [],
   "source": [
    "data = pd.read_csv('https://raw.githubusercontent.com/albahnsen/AdvancedMethodsDataAnalysisClass/master/datasets/dataTrain_carListings.zip')"
   ]
  },
  {
   "cell_type": "code",
   "execution_count": null,
   "metadata": {
    "colab": {
     "base_uri": "https://localhost:8080/",
     "height": 204
    },
    "colab_type": "code",
    "id": "6lXN4DCyOVA2",
    "outputId": "fb1da386-43c3-4c11-fd36-908636a46dff"
   },
   "outputs": [],
   "source": [
    "data[['State','Make','Model']] = data[['State','Make','Model']].astype('category')\n",
    "data.head()"
   ]
  },
  {
   "cell_type": "code",
   "execution_count": null,
   "metadata": {
    "colab": {},
    "colab_type": "code",
    "id": "UuHXW8_4eh9W"
   },
   "outputs": [],
   "source": [
    "data_dummy = pd.get_dummies(data)"
   ]
  },
  {
   "cell_type": "code",
   "execution_count": null,
   "metadata": {
    "colab": {
     "base_uri": "https://localhost:8080/",
     "height": 340
    },
    "colab_type": "code",
    "id": "KkcLQ9rMd_k0",
    "outputId": "b24d98a9-aaab-40a8-855b-32b447801711"
   },
   "outputs": [],
   "source": [
    "data.info(), data_dummy.info()"
   ]
  },
  {
   "cell_type": "code",
   "execution_count": null,
   "metadata": {
    "colab": {
     "base_uri": "https://localhost:8080/",
     "height": 34
    },
    "colab_type": "code",
    "id": "ooztdOMZOVA9",
    "outputId": "5092991c-df9c-4a19-fd05-48ee39cdae9b"
   },
   "outputs": [],
   "source": [
    "data.shape"
   ]
  },
  {
   "cell_type": "code",
   "execution_count": null,
   "metadata": {
    "colab": {
     "base_uri": "https://localhost:8080/",
     "height": 34
    },
    "colab_type": "code",
    "id": "rOCC-k9C7DB8",
    "outputId": "75d795f5-cb8f-4194-f7ea-2b624af20054"
   },
   "outputs": [],
   "source": [
    "data_dummy.shape"
   ]
  },
  {
   "cell_type": "code",
   "execution_count": null,
   "metadata": {
    "colab": {
     "base_uri": "https://localhost:8080/",
     "height": 170
    },
    "colab_type": "code",
    "id": "EGG2ttkCOVBE",
    "outputId": "0a812541-5bed-4bb3-ad9d-ff0873d391c9"
   },
   "outputs": [],
   "source": [
    "data.Price.describe()"
   ]
  },
  {
   "cell_type": "code",
   "execution_count": null,
   "metadata": {
    "colab": {
     "base_uri": "https://localhost:8080/",
     "height": 296
    },
    "colab_type": "code",
    "id": "J53NeVAGOVBJ",
    "outputId": "1ae3ea9e-10c5-4ca4-fa5d-61dbb305dd86"
   },
   "outputs": [],
   "source": [
    "data.plot(kind='scatter', y='Price', x='Year')"
   ]
  },
  {
   "cell_type": "code",
   "execution_count": null,
   "metadata": {
    "colab": {
     "base_uri": "https://localhost:8080/",
     "height": 296
    },
    "colab_type": "code",
    "id": "elyPdfZPOVBO",
    "outputId": "a75b7fdb-9591-432c-f1ab-22e00f26bfef"
   },
   "outputs": [],
   "source": [
    "data.plot(kind='scatter', y='Price', x='Mileage')"
   ]
  },
  {
   "cell_type": "code",
   "execution_count": null,
   "metadata": {
    "colab": {
     "base_uri": "https://localhost:8080/",
     "height": 34
    },
    "colab_type": "code",
    "id": "x3zWh6XuOVBZ",
    "outputId": "f0c16eef-18c2-4e4a-dd2a-f88ef1921600"
   },
   "outputs": [],
   "source": [
    "data.columns"
   ]
  },
  {
   "cell_type": "markdown",
   "metadata": {
    "colab_type": "text",
    "id": "o7G9kOvmOVBg"
   },
   "source": [
    "# Exercise P2.1 (50%)\n",
    "\n",
    "Develop a machine learning model that predicts the price of the of car using as an input ['Year', 'Mileage', 'State', 'Make', 'Model']\n",
    "\n",
    "#### Evaluation:\n",
    "- 25% - Performance of the models using a manually implemented K-Fold (K=10) cross-validation\n",
    "- 25% - Notebook explaining the process for selecting the best model. You must specify how the calibration of each of the parameters is done and how these change the performance of the model. It is expected that a clear comparison will be made of all implemented models.. Present the most relevant conslusions about the whole process. \n"
   ]
  },
  {
   "cell_type": "code",
   "execution_count": null,
   "metadata": {
    "colab": {},
    "colab_type": "code",
    "id": "e02Etb7TW1WZ"
   },
   "outputs": [],
   "source": [
    "y = data_dummy.Price.values\n",
    "X = data_dummy.drop('Price', axis=1).values\n",
    "X_train, X_test, y_train, y_test = tts(X, y, test_size=0.8, random_state=123)\n",
    "del data\n",
    "del data_dummy"
   ]
  },
  {
   "cell_type": "code",
   "execution_count": 327,
   "metadata": {},
   "outputs": [
    {
     "name": "stdout",
     "output_type": "stream",
     "text": [
      "0\n",
      "1\n",
      "2\n",
      "3\n",
      "4\n",
      "5\n",
      "6\n",
      "7\n",
      "8\n",
      "9\n",
      "10\n",
      "11\n",
      "12\n",
      "13\n",
      "14\n",
      "15\n",
      "16\n",
      "17\n",
      "18\n",
      "19\n"
     ]
    }
   ],
   "source": [
    "cants = 50000 #quantity of samples selected from biggest DF\n",
    "cantmdl = 3  #quantity of models to train (with CV)\n",
    "mdls = list() \n",
    "rmses = list()\n",
    "\n",
    "for j in range(cantmdl): #Models specified in cantmdl var\n",
    "    Xi = sample(range(1, len(list(X_train))), cants)\n",
    "    X_train1 = X_train[Xi]\n",
    "    y_train1 = y_train[Xi]\n",
    "    bestrmse = 9999999999\n",
    "    bestmdl = 0\n",
    "    kf = 10\n",
    "    ks = np.round(cants/kf,0).astype(np.int)\n",
    "    for i in range(kf): #CV with K-Fold defined in KF var\n",
    "        X_train2 = pd.DataFrame(X_train1)\n",
    "        y_train2 = pd.DataFrame(y_train1)\n",
    "        X_train2 = X_train2[np.invert(X_train2.index.isin(np.arange(i*ks,(i+1)*ks)))]\n",
    "        y_train2 = y_train2[np.invert(y_train2.index.isin(np.arange(i*ks,(i+1)*ks)))]\n",
    "        X_test2 = X_train1[np.arange(i*ks,(i+1)*ks)]\n",
    "        y_test2 = y_train1[np.arange(i*ks,(i+1)*ks)]\n",
    "        mdl = ETR(bootstrap=False, ccp_alpha=0.0, criterion='mse',\n",
    "                    max_depth=None, max_features='auto', max_leaf_nodes=None,\n",
    "                    max_samples=None, min_impurity_decrease=0.0,\n",
    "                    min_impurity_split=None, min_samples_leaf=1,\n",
    "                    min_samples_split=2, min_weight_fraction_leaf=0.0,\n",
    "                    n_estimators=10, n_jobs=-1, oob_score=False,\n",
    "                    random_state=None, verbose=0, warm_start=False)\n",
    "        mdl.fit(X_train2,y_train2)\n",
    "        rmse = mse(mdl.predict(X_test2),y_test2)**0.5\n",
    "        if rmse < bestrmse:\n",
    "            bestrmse = rmse;\n",
    "            bestmdl = mdl;\n",
    "    mdls.append(bestmdl)\n",
    "    rmses.append(bestrmse)"
   ]
  },
  {
   "cell_type": "code",
   "execution_count": 328,
   "metadata": {},
   "outputs": [
    {
     "data": {
      "text/plain": [
       "4435.832557568386"
      ]
     },
     "execution_count": 328,
     "metadata": {},
     "output_type": "execute_result"
    }
   ],
   "source": [
    "score = np.zeros(cantmdl)\n",
    "for i in range(cantmdl):\n",
    "    score[i]=(mse(mdls[i].predict(X_test),y_test)**0.5)\n",
    "alpha = (1 - score) / (1 - score).sum()\n",
    "alpha = (1/alpha)/sum(1/alpha)\n",
    "\n",
    "pred = pd.DataFrame(0, index=np.arange(len(y_test)), columns=range(cantmdl))\n",
    "for i in range(cantmdl):\n",
    "    pred[i] = (pd.DataFrame(mdls[i].predict(X_test)))\n",
    "#pred[cantmdl] = pred.iloc[:,0:cantmdl].mean(axis = 1, skipna = True)\n",
    "mse((pred * alpha).sum(axis=1),y_test)**0.5"
   ]
  },
  {
   "cell_type": "code",
   "execution_count": 332,
   "metadata": {},
   "outputs": [],
   "source": [
    "joblib.dump(mdls, 'model_lr.pkl', compress=3)\n",
    "\n",
    "pd.DataFrame(alpha).to_csv('alpha.csv')"
   ]
  },
  {
   "cell_type": "code",
   "execution_count": 359,
   "metadata": {},
   "outputs": [
    {
     "data": {
      "text/plain": [
       "49985.75590927167"
      ]
     },
     "execution_count": 359,
     "metadata": {},
     "output_type": "execute_result"
    }
   ],
   "source": [
    "from numpy import zeros as zr\n",
    "\n",
    "Year = 2019\n",
    "Mileage = 5000\n",
    "State = 'OK'\n",
    "Make = 'Audi'\n",
    "Model = 'A8'\n",
    "\n",
    "datax=pd.DataFrame({'Year':[Year],\n",
    "        'Mileage':[Mileage],\n",
    "        'State':[State],\n",
    "        'Make':[Make],\n",
    "        'Model':[Model]})\n",
    "\n",
    "states = ['AK','AL','AR','AZ','CA','CO','CT','DC','DE','FL','GA','HI','IA','ID','IL','IN','KS','KY','LA','MA','MD','ME','MI','MN','MO','MS','MT','NC','ND','NE','NH','NJ','NM','NV','NY','OH','OK','OR','PA','RI','SC','SD','TN','TX','UT','VA','VT','WA','WI','WV','WY']\n",
    "makes = ['Acura','Audi','BMW','Bentley','Buick','Cadillac','Chevrolet','Chrysler','Dodge','FIAT','Ford','Freightliner','GMC','Honda','Hyundai','INFINITI','Jaguar','Jeep','Kia','Land','Lexus','Lincoln','MINI','Mazda','Mercedes-Benz','Mercury','Mitsubishi','Nissan','Pontiac','Porsche','Ram','Scion','Subaru','Suzuki','Tesla','Toyota','Volkswagen','Volvo']\n",
    "models = ['1','15002WD','15004WD','1500Laramie','1500Tradesman','200LX','200Limited','200S','200Touring','25002WD','25004WD','3','300300C','300300S','3004dr','300Base','300Limited','300Touring','35004WD','350Z2dr','4Runner2WD','4Runner4WD','4Runner4dr','4RunnerLimited','4RunnerRWD','4RunnerSR5','4RunnerTrail','5','500Pop','6','7','911','9112dr','A34dr','A44dr','A64dr','A8','AcadiaAWD','AcadiaFWD','Accent4dr','Accord','AccordEX','AccordEX-L','AccordLX','AccordLX-S','AccordSE','Altima4dr','Armada2WD','Armada4WD','Avalanche2WD','Avalanche4WD','Avalon4dr','AvalonLimited','AvalonTouring','AvalonXLE','Azera4dr','Boxster2dr','C-Class4dr','C-ClassC','C-ClassC300','C-ClassC350','C702dr','CC4dr','CR-V2WD','CR-V4WD','CR-VEX','CR-VEX-L','CR-VLX','CR-VSE','CR-ZEX','CT','CTCT','CTS','CTS-V','CTS4dr','CX-7FWD','CX-9AWD','CX-9FWD','CX-9Grand','CX-9Touring','Caliber4dr','Camaro2dr','CamaroConvertible','CamaroCoupe','Camry','Camry4dr','CamryBase','CamryL','CamryLE','CamrySE','CamryXLE','Canyon2WD','Canyon4WD','CanyonCrew','CanyonExtended','CayenneAWD','Cayman2dr','Challenger2dr','ChallengerR/T','Charger4dr','ChargerSE','ChargerSXT','CherokeeLimited','CherokeeSport','Civic','CivicEX','CivicEX-L','CivicLX','CivicSi','Cobalt2dr','Cobalt4dr','Colorado2WD','Colorado4WD','ColoradoCrew','ColoradoExtended','Compass4WD','CompassLatitude','CompassLimited','CompassSport','Continental','Cooper','Corolla4dr','CorollaL','CorollaLE','CorollaS','Corvette2dr','CorvetteConvertible','CorvetteCoupe','CruzeLT','CruzeSedan','DTS4dr','Dakota2WD','Dakota4WD','Durango2WD','Durango4dr','DurangoAWD','DurangoSXT','E-ClassE','E-ClassE320','E-ClassE350','ES','ESES','Eclipse3dr','Econoline','EdgeLimited','EdgeSE','EdgeSEL','EdgeSport','Elantra','Elantra4dr','ElantraLimited','Element2WD','Element4WD','EnclaveConvenience','EnclaveLeather','EnclavePremium','Eos2dr','EquinoxAWD','EquinoxFWD','Escalade','Escalade2WD','Escalade4dr','EscaladeAWD','Escape4WD','Escape4dr','EscapeFWD','EscapeLImited','EscapeLimited','EscapeS','EscapeSE','EscapeXLT','Excursion137\"','Expedition','Expedition2WD','Expedition4WD','ExpeditionLimited','ExpeditionXLT','Explorer','Explorer4WD','Explorer4dr','ExplorerBase','ExplorerEddie','ExplorerFWD','ExplorerLimited','ExplorerXLT','Express','F-1502WD','F-1504WD','F-150FX2','F-150FX4','F-150King','F-150Lariat','F-150Limited','F-150Platinum','F-150STX','F-150SuperCrew','F-150XL','F-150XLT','F-250King','F-250Lariat','F-250XL','F-250XLT','F-350King','F-350Lariat','F-350XL','F-350XLT','FJ','FX35AWD','FiestaS','FiestaSE','FitSport','FlexLimited','FlexSE','FlexSEL','Focus4dr','Focus5dr','FocusS','FocusSE','FocusSEL','FocusST','FocusTitanium','Forester2.5X','Forester4dr','Forte','ForteEX','ForteLX','ForteSX','Frontier','Frontier2WD','Frontier4WD','Fusion4dr','FusionHybrid','FusionS','FusionSE','FusionSEL','G35','G37','G64dr','GLI4dr','GS','GSGS','GTI2dr','GTI4dr','GX','GXGX','Galant4dr','Genesis','Golf','Grand','Highlander','Highlander4WD','Highlander4dr','HighlanderBase','HighlanderFWD','HighlanderLimited','HighlanderSE','IS','ISIS','Impala4dr','ImpalaLS','ImpalaLT','Impreza','Impreza2.0i','ImprezaSport','Jetta','JourneyAWD','JourneyFWD','JourneySXT','LS','LSLS','LX','LXLX','LaCrosse4dr','LaCrosseAWD','LaCrosseFWD','Lancer4dr','Land','Legacy','Legacy2.5i','Legacy3.6R','Liberty4WD','LibertyLimited','LibertySport','Lucerne4dr','M-ClassML350','MDX4WD','MDXAWD','MKXAWD','MKXFWD','MKZ4dr','MX5','Malibu','Malibu1LT','Malibu4dr','MalibuLS','MalibuLT','Matrix5dr','Maxima4dr','Mazda34dr','Mazda35dr','Mazda64dr','Milan4dr','Model','Monte','Murano2WD','MuranoAWD','MuranoS','Mustang2dr','MustangBase','MustangDeluxe','MustangGT','MustangPremium','MustangShelby','Navigator','Navigator2WD','Navigator4WD','Navigator4dr','New','OdysseyEX','OdysseyEX-L','OdysseyLX','OdysseyTouring','Optima4dr','OptimaEX','OptimaLX','OptimaSX','Outback2.5i','Outback3.6R','Outlander','Outlander2WD','Outlander4WD','PT','PacificaLimited','PacificaTouring','Passat','Passat4dr','Pathfinder2WD','Pathfinder4WD','PathfinderS','PathfinderSE','Patriot4WD','PatriotLatitude','PatriotLimited','PatriotSport','Pilot2WD','Pilot4WD','PilotEX','PilotEX-L','PilotLX','PilotSE','PilotTouring','Prius','Prius5dr','PriusBase','PriusFive','PriusFour','PriusOne','PriusThree','PriusTwo','Q5quattro','Q7quattro','QX562WD','QX564WD','Quest4dr','RAV4','RAV44WD','RAV44dr','RAV4Base','RAV4FWD','RAV4LE','RAV4Limited','RAV4Sport','RAV4XLE','RDXAWD','RDXFWD','RX','RX-84dr','RXRX','Ram','Ranger2WD','Ranger4WD','RangerSuperCab','Regal4dr','RegalGS','RegalPremium','RegalTurbo','RidgelineRTL','RidgelineSport','RioLX','RogueFWD','Rover','S2000Manual','S44dr','S60T5','S804dr','SC','SL-ClassSL500','SLK-ClassSLK350','SRXLuxury','STS4dr','Santa','Savana','Sedona4dr','SedonaEX','SedonaLX','Sentra4dr','Sequoia4WD','Sequoia4dr','SequoiaLimited','SequoiaPlatinum','SequoiaSR5','Sienna5dr','SiennaLE','SiennaLimited','SiennaSE','SiennaXLE','Sierra','Silverado','Sonata4dr','SonataLimited','SonataSE','SonicHatch','SonicSedan','Sorento2WD','SorentoEX','SorentoLX','SorentoSX','Soul+','SoulBase','Sportage2WD','SportageAWD','SportageEX','SportageLX','SportageSX','Sprinter','Suburban2WD','Suburban4WD','Suburban4dr','Super','TL4dr','TLAutomatic','TSXAutomatic','TT2dr','Tacoma2WD','Tacoma4WD','TacomaBase','TacomaPreRunner','Tahoe2WD','Tahoe4WD','Tahoe4dr','TahoeLS','TahoeLT','Taurus4dr','TaurusLimited','TaurusSE','TaurusSEL','TaurusSHO','TerrainAWD','TerrainFWD','Tiguan2WD','TiguanS','TiguanSE','TiguanSEL','Titan','Titan2WD','Titan4WD','Touareg4dr','Town','Transit','TraverseAWD','TraverseFWD','TucsonAWD','TucsonFWD','TucsonLimited','Tundra','Tundra2WD','Tundra4WD','TundraBase','TundraLimited','TundraSR5','VeracruzAWD','VeracruzFWD','Versa4dr','Versa5dr','Vibe4dr','WRXBase','WRXLimited','WRXPremium','WRXSTI','Wrangler','Wrangler2dr','Wrangler4WD','WranglerRubicon','WranglerSahara','WranglerSport','WranglerX','X1xDrive28i','X3AWD','X3xDrive28i','X5AWD','X5xDrive35i','XC60AWD','XC60FWD','XC60T6','XC704dr','XC90AWD','XC90FWD','XC90T6','XF4dr','XJ4dr','XK2dr','Xterra2WD','Xterra4WD','Xterra4dr','Yaris','Yaris4dr','YarisBase','YarisLE','Yukon','Yukon2WD','Yukon4WD','Yukon4dr','tC2dr','xB5dr','xD5dr']\n",
    "for state in states:\n",
    "    datax['State_' + state] = datax.State.str.contains(state).astype(int)\n",
    "for make in makes:\n",
    "    datax['Make_' + make] = datax.Make.str.contains(make).astype(int)\n",
    "for model in models:\n",
    "    datax['Model_' + model] = datax.Model.str.contains(model).astype(int)\n",
    "datax.drop(['State','Make','Model'], axis=1, inplace=True)\n",
    "\n",
    "reg = mdls\n",
    "\n",
    "\n",
    "alpha2 = pd.read_csv('alpha.csv').values\n",
    "cant2 = len(alpha2)\n",
    "pred2 = zr(cant2)\n",
    "for i in range(cant2):\n",
    "    pred2[i] = (reg[i].predict(datax))*alpha2[i]\n",
    "p1 = np.sum(pred2)\n",
    "p1"
   ]
  },
  {
   "cell_type": "code",
   "execution_count": 358,
   "metadata": {},
   "outputs": [
    {
     "data": {
      "text/plain": [
       "49985.75590927167"
      ]
     },
     "execution_count": 358,
     "metadata": {},
     "output_type": "execute_result"
    }
   ],
   "source": [
    "np.sum(pred2)"
   ]
  },
  {
   "cell_type": "markdown",
   "metadata": {
    "colab_type": "text",
    "id": "Us_FZFQ8OVBq"
   },
   "source": [
    "# Exercise P2.2 (50%)\n",
    "\n",
    "Create an API of the model.\n",
    "\n",
    "Example:\n",
    "![](https://raw.githubusercontent.com/albahnsen/PracticalMachineLearningClass/master/notebooks/images/img015.PNG)\n",
    "\n",
    "#### Evaluation:\n",
    "- 40% - API hosted on a cloud service\n",
    "- 10% - Show screenshots of the model doing the predictions on the local machine\n"
   ]
  },
  {
   "cell_type": "code",
   "execution_count": null,
   "metadata": {
    "colab": {},
    "colab_type": "code",
    "id": "9HZyae7HExKb"
   },
   "outputs": [],
   "source": [
    "joblib.dump(clf, 'model_deployment/.pkl', compress=3)"
   ]
  }
 ],
 "metadata": {
  "accelerator": "GPU",
  "colab": {
   "collapsed_sections": [],
   "name": "P2-G3-UsedVehiclePricePrediction.ipynb",
   "provenance": []
  },
  "kernelspec": {
   "display_name": "Python 3",
   "language": "python",
   "name": "python3"
  },
  "language_info": {
   "codemirror_mode": {
    "name": "ipython",
    "version": 3
   },
   "file_extension": ".py",
   "mimetype": "text/x-python",
   "name": "python",
   "nbconvert_exporter": "python",
   "pygments_lexer": "ipython3",
   "version": "3.7.6"
  }
 },
 "nbformat": 4,
 "nbformat_minor": 1
}
